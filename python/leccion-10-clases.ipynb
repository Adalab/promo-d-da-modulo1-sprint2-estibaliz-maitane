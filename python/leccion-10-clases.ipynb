{
 "cells": [
  {
   "attachments": {},
   "cell_type": "markdown",
   "metadata": {},
   "source": [
    "# **Ejercicios de pair programming Módulo 1 - Sprint 2**\n",
    "## **Lección 10**\n",
    "### **Clases**\n",
    "\n",
    "---"
   ]
  },
  {
   "attachments": {},
   "cell_type": "markdown",
   "metadata": {},
   "source": [
    "En este ejercicio de pair programming crearemos una clase. Imaginemos que nuestro jefe nos pide que creemos una clase para tener más ordenada la información sobre cada uno de los empleados de la empresa. Para ello:  \n",
    "- Definid una clase que se llame `Empleados`\n",
    "- Definid los siguientes atributos que caracterizan a nuestros empleados:  \n",
    "    * nombre\n",
    "    * apellido\n",
    "    * edad\n",
    "    * posición que ocupa en la empresa\n",
    "    * año en que entró en la empresa\n",
    "    * número de días de vacaciones que tiene\n",
    "    * Las herramientas que usa cada uno de ellos, por ejemplo, Outlook, excel y word. Deberá ser una lista.\n",
    "- Cread una instancia para la clase creada\n",
    "- Definid los siguientes métodos:  \n",
    "    *  descripción\n",
    "    * calculo_vacaciones\n",
    "    * cambiando_posicion  \n",
    "    \n",
    "**Tips para definir los métodos:**\n",
    "- Método `descripcion`:\n",
    "    * El return deberá ser un string en el que aparezca el nombre, apellidos, los años que lleva en la empresa y los días de vacaciones que le quedan. Este método deberá devolver algo como esto:  \n",
    "        ```python\n",
    "        \"El/ella, es Lorena, Data Analyst, quien lleva con nostros en la empresa desde 2000. Además este año le quedan 15 dias de vacaciones\"\n",
    "        ```\n",
    "- Método `calculo_vacaciones`:\n",
    "    * Deberá contener input que nos pregunte cuántos días te quieres ir de vacaciones.\n",
    "    * Luego deberemos restar el número de días que se fue de vacaciones a el número total de vacaciones que tiene ese empleado.\n",
    "    * Una condición que chequee si:\n",
    "        - Si el numero de vacaciones que tiene el empleado es igual a 0, devolved un mensaje que diga que se le acabaron las vacaciones\n",
    "        - Si el número de días que se quiere ir de vacaciones es mayor que el número de vacaciones que le quedan, devolved un mensaje que diga que no se puede ir tantos de vacaciones\n",
    "        - En caso de que no se cumplan ninguna de estas condiciones, que nos devuelva el número de vacaciones que le quedan al empleado.\n",
    "- Método `cambiando_posicion`:\n",
    "    * Iteraremos por la lista de herramientas que usa el empleado:\n",
    "        - Si el empleado usa \"Python\" devolveremos un mensaje de bien hecho!\n",
    "        - Si el empleado usa \"Excel\" le recomendaremos amigablemente que deje excel y empiece a usar Excel"
   ]
  }
 ],
 "metadata": {
  "kernelspec": {
   "display_name": "adalabenv",
   "language": "python",
   "name": "python3"
  },
  "language_info": {
   "codemirror_mode": {
    "name": "ipython",
    "version": 3
   },
   "file_extension": ".py",
   "mimetype": "text/x-python",
   "name": "python",
   "nbconvert_exporter": "python",
   "pygments_lexer": "ipython3",
   "version": "3.10.9"
  },
  "orig_nbformat": 4,
  "vscode": {
   "interpreter": {
    "hash": "982f2751c33df6248463c13acbc6212f8872fb2f983edea342e7641fdc0e9b5d"
   }
  }
 },
 "nbformat": 4,
 "nbformat_minor": 2
}
