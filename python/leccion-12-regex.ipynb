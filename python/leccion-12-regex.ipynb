{
 "cells": [
  {
   "attachments": {},
   "cell_type": "markdown",
   "metadata": {},
   "source": [
    "# **Ejercicios de pair programming Módulo 1 - Sprint 2**\n",
    "## **Lección 12**\n",
    "### **Expresiones regulares**\n",
    "\n",
    "---"
   ]
  },
  {
   "attachments": {},
   "cell_type": "markdown",
   "metadata": {},
   "source": [
    "En este ejercicio pondremos en práctica los conocimientos aprendidos sobre métodos de strings y expresiones regulares.\n",
    "\n",
    "Antes de empezar:\n",
    "\n",
    "📌 Cargad el fichero del email que tenemos al final de la explicación del pair de hoy y almacenarlo en una variable. Para abrirlo tendremos que usar el método open aprendido en lecciones anteriores. \n",
    "\n",
    "📌 Importad las librerías necesarias para poder usar las expresiones regulares\n",
    "Recordad que en regex tenemos que buscar patrones para cada objetivo que os planteamos. Tendremos que poner en práctica todo lo aprendido hasta ahora. For loops, métodos de strings, indexación de listas, etc.\n",
    "\n",
    "Los objetivos de la sesión de hoy son:\n",
    "\n",
    "Extraer el email de la persona que envió el email (os deberían salir 2).\n",
    "\n",
    "💡 Pista 💡 Tendremos que hacer dos busquedas:\n",
    "\n",
    "- Una para extraer toda la información del remitente. \n",
    "\n",
    "El remitente siempre empieza por From:\n",
    "info_remitente = re.findall('From:.*',email)\n",
    "\n",
    "- Otra para extraer el email únicamente.\n",
    "\n",
    "Extraer el nombre de la persona que envió el email (os deberían salir 2).\n",
    "💡 Pista 💡 Tendremos que hacer dos busquedas:\n",
    "\n",
    "Podemos usar el resultado de la primera búsqueda del ejercicio anterior para sacar el nombre.\n",
    "\n",
    "Otra para extraer el nombre únicamente.\n",
    "\n",
    "El día en el que se mandó el email (os deberían salir 2).\n",
    "\n",
    "💡 Pista 💡 De la misma forma que antes buscamos por From: primero, ahora lo tendremos que hacer con Date: .*\n",
    "El asunto del email (os deberían salir 2).\n",
    "\n",
    "💡 Pista 💡 Busca primero \"Subject:.* y después busca el patrón para extraer el asunto.\n",
    "\n",
    "Guarda todos los resultados en un diccionario\n",
    "\n",
    "💪🏽 BONUS 💪🏽\n",
    "\n",
    "Utiliza funciones para cada una de los objetivos planteados."
   ]
  },
  {
   "cell_type": "code",
   "execution_count": null,
   "metadata": {},
   "outputs": [],
   "source": []
  }
 ],
 "metadata": {
  "language_info": {
   "name": "python"
  },
  "orig_nbformat": 4
 },
 "nbformat": 4,
 "nbformat_minor": 2
}
