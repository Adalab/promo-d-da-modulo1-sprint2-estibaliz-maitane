{
 "cells": [
  {
   "attachments": {},
   "cell_type": "markdown",
   "metadata": {},
   "source": [
    "# **Ejercicios de pair programming Módulo 1 - Sprint 2**\n",
    "## **Lección 13**\n",
    "### **Python + SQL 1**\n",
    "\n",
    "---"
   ]
  },
  {
   "attachments": {},
   "cell_type": "markdown",
   "metadata": {},
   "source": [
    "Objetivos\n",
    "\n",
    "\n",
    "1. Antes de empezar a trabajar con la BBDD de Northwind, conozcamos un poco las BBDD que tenemos en nuestro servidor. \n",
    "¿Qué BBDD tenemos en nuestro servidor?\n",
    "\n",
    "2. Empezemos a explorar la BBDD de Northwind. \n",
    "¿Qué tablas componen la BBDD? Recuerda que primero nos tendremos que conectar con la BBDD sobre la que queremos trabajar. \n",
    "Guarda el resultado de los nombres de la tablas en una lista.\n",
    "\n",
    "3. ¿Qué columnas tiene cada una de las tablas? Para esto tendréis que hacer un for loop para que nos saque el resultado de todas las columnas.\n",
    "\n",
    "4. Hagamos unas queries facilitas:\n",
    "\n",
    "- Extraed el primer pedido donde se ha gastado más. Devolved el id del pedido y la cantidad gastada.\n",
    "\n",
    "- Devuelve la misma query que en el anterior ejercicio, pero en este caso devuelve todos los resultados.\n",
    "\n",
    "- Extraed el números de pedidos que se hayan hecho por dia. Devuelve los resultados en una dataframe.\n",
    "\n",
    "- Extraer los pedidos hechos por \"Nancy Daviolo\". Tendréis que hacer una subquery.\n",
    "\n",
    "Para finalizar el ejercicio, desconectad la conexión con el servidor.\n"
   ]
  },
  {
   "cell_type": "code",
   "execution_count": null,
   "metadata": {},
   "outputs": [],
   "source": []
  }
 ],
 "metadata": {
  "language_info": {
   "name": "python"
  },
  "orig_nbformat": 4
 },
 "nbformat": 4,
 "nbformat_minor": 2
}
