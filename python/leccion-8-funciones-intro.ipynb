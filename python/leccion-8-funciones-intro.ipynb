{
 "cells": [
  {
   "attachments": {},
   "cell_type": "markdown",
   "metadata": {},
   "source": [
    "# **Ejercicios de pair programming Módulo 1**\n",
    "## **Lección 8**\n",
    "### **Funciones Intro**\n",
    "\n",
    "---"
   ]
  },
  {
   "attachments": {},
   "cell_type": "markdown",
   "metadata": {},
   "source": [
    "Llegó el momento de poner en práctica las funciones 🥳! Os planteamos 5 ejercicios que tenéis que solucionar usando funciones. Tendréis que usar las estructuras de control flow (if ... elif ... else) y loops (for, while, etc.), métodos de listas, diccionarios etc.\n",
    "\n",
    "En cada ejericio, os dejamos una serie de agumentos con los que tenéis que probar que vuestra función sea capaz de resolverlos. Es decir, vuestras funciones tienen que funcionar para cada uno de los argumentos que os hemos puesto.\n",
    "Manos a la obra! 🤓\n",
    "\n",
    "Como consejo, si alguno de los ejercicios no os sale, nos os preocupeis, estamos aprendiendo a ser programadoras. En ese caso, dejad la función un rato y seguid con la siguiente!\n",
    "\n",
    "Happy coding!\n",
    "\n",
    "1. Cread una función que reciba 2 números enteros en forma de string como entrada, y dé como resultado la suma (también en forma de string)\n",
    "Condiciones:  \n",
    "    - Si los dos parámetros que recibe la función son strings vacíos la función nos debe devolver \"0\"\n",
    "    - Si el primer parámetro es un string vacío, la función nos devuelve el valor del segundo parámetro y viceversa.\n",
    "    \n",
    "    * Probad la función para las siguientes combinaciones de \"números\":  \n",
    "        - Parámetros que recibe la función: \"4\",  \"5\" --> Output esperado: \"9\"  \n",
    "        - Parámetros que recibe la función: \"34\", \"5\" --> Output esperado: \"39\"  \n",
    "        - Parámetros que recibe la función: \"\", \"\" --> Output esperado: \"0\"  \n",
    "        - Parámetros que recibe la función: \"2\", \"\" --> Output esperado: \"2\"  \n",
    "        - Parámetros que recibe la función: \"-5\", \"3\" --> Output esperado: \"-2\"  "
   ]
  },
  {
   "cell_type": "code",
   "execution_count": 27,
   "metadata": {},
   "outputs": [],
   "source": [
    "def suma_string2(a,b):\n",
    "    try:\n",
    "        a_i = int(a)\n",
    "        b_i= int(b)\n",
    "    except:\n",
    "        if a == \"\":\n",
    "            a_i = 0\n",
    "        else: int(a)\n",
    "        if b == \"\":\n",
    "            b_i = 0\n",
    "        else: int(b)\n",
    "        b_i= int(b)\n",
    "    suma = a_i + b_i\n",
    "    return suma\n",
    "        "
   ]
  },
  {
   "cell_type": "code",
   "execution_count": 58,
   "metadata": {},
   "outputs": [],
   "source": [
    "def suma_string(a,b):\n",
    "    parametros = [a, b]\n",
    "    suma = 0\n",
    "    for i in parametros:\n",
    "        if i == \"\":\n",
    "            i_i = 0\n",
    "        else:\n",
    "            i_i = int(i)\n",
    "        suma += i_i\n",
    "    return suma"
   ]
  },
  {
   "cell_type": "code",
   "execution_count": 59,
   "metadata": {},
   "outputs": [
    {
     "data": {
      "text/plain": [
       "9"
      ]
     },
     "execution_count": 59,
     "metadata": {},
     "output_type": "execute_result"
    }
   ],
   "source": [
    "# Prueba con parámetros \"4\", \"5\"  \n",
    "suma_string(\"4\",\"5\")"
   ]
  },
  {
   "cell_type": "code",
   "execution_count": 60,
   "metadata": {},
   "outputs": [
    {
     "data": {
      "text/plain": [
       "39"
      ]
     },
     "execution_count": 60,
     "metadata": {},
     "output_type": "execute_result"
    }
   ],
   "source": [
    "# Prueba con parámetros \"34\", \"5\"  \n",
    "suma_string(\"34\",\"5\")"
   ]
  },
  {
   "cell_type": "code",
   "execution_count": 61,
   "metadata": {},
   "outputs": [
    {
     "data": {
      "text/plain": [
       "0"
      ]
     },
     "execution_count": 61,
     "metadata": {},
     "output_type": "execute_result"
    }
   ],
   "source": [
    "# Prueba con parámetros \"\", \"\"  \n",
    "suma_string(\"\",\"\")"
   ]
  },
  {
   "cell_type": "code",
   "execution_count": 62,
   "metadata": {},
   "outputs": [
    {
     "data": {
      "text/plain": [
       "2"
      ]
     },
     "execution_count": 62,
     "metadata": {},
     "output_type": "execute_result"
    }
   ],
   "source": [
    "# Prueba con parámetros \"2\", \"\"  \n",
    "suma_string(\"2\",\"\")"
   ]
  },
  {
   "cell_type": "code",
   "execution_count": 64,
   "metadata": {},
   "outputs": [
    {
     "data": {
      "text/plain": [
       "-2"
      ]
     },
     "execution_count": 64,
     "metadata": {},
     "output_type": "execute_result"
    }
   ],
   "source": [
    "# Prueba con parámetros \"2\", \"\"  \n",
    "suma_string(\"-5\",\"3\")"
   ]
  },
  {
   "attachments": {},
   "cell_type": "markdown",
   "metadata": {},
   "source": [
    "2. El objetivo es comparar cada par de enteros de 2 listas, y devolver una nueva lista con el número mayor de la comapración.   \n",
    "💡 Pista 💡 En Python existe el método zip. \n",
    "    * Probad la función para las siguientes listas:\n",
    "        - arr1 = [13, 64, 15, 17, 88]  \n",
    "        - arr2 = [23, 14, 53, 17, 80]  \n",
    "        - resultado = [23, 64, 53, 17, 88]    \n",
    "    "
   ]
  },
  {
   "cell_type": "code",
   "execution_count": 69,
   "metadata": {},
   "outputs": [],
   "source": [
    "arr1 = [13, 64, 15, 17, 88]\n",
    "arr2 = [23, 14, 53, 17, 80]  "
   ]
  },
  {
   "cell_type": "code",
   "execution_count": 70,
   "metadata": {},
   "outputs": [],
   "source": [
    "def numero_mayor(lista1, lista2):\n",
    "    resultado = []\n",
    "    for i, j in zip(arr1, arr2):\n",
    "        if i > j:\n",
    "            resultado.append(i)\n",
    "        elif j > i:\n",
    "            resultado.append(j)\n",
    "        else:\n",
    "            resultado.append(i)\n",
    "    return resultado"
   ]
  },
  {
   "cell_type": "code",
   "execution_count": 71,
   "metadata": {},
   "outputs": [
    {
     "data": {
      "text/plain": [
       "[23, 64, 53, 17, 88]"
      ]
     },
     "execution_count": 71,
     "metadata": {},
     "output_type": "execute_result"
    }
   ],
   "source": [
    "numero_mayor(arr1, arr2)"
   ]
  },
  {
   "attachments": {},
   "cell_type": "markdown",
   "metadata": {},
   "source": [
    "3. El objetivo de este ejercicio es convertir un string en un nuevo string en el que cada carácter del nuevo string es \"(\" si ese carácter aparece sólo una vez en el string original, o \")\" si ese carácter aparece más de una vez en el string. Nuestro código no tiene que ser case sensitive, es decir, si hay una letra en mayúscula y en minúscula cuenta como dos apariciones.  \n",
    "    * Probad la función para los siguientes strings   \n",
    "        . \"din\"      =>  \"(((\"  \n",
    "        . \"recede\"   =>  \"()()()\"  \n",
    "        . \"Success\"  =>  \")())())\"  \n",
    "        . \"(( @\"     =>  \"))((\"   \n",
    "        . \"Ocvl@GamFLAFkixkS\" => \"((()(()()))))(()(\"  "
   ]
  },
  {
   "cell_type": "code",
   "execution_count": 1,
   "metadata": {},
   "outputs": [],
   "source": [
    "def parentesis(string):\n",
    "    string = string.lower()\n",
    "    string2 = \"\"\n",
    "    for letra in string:\n",
    "        if string.count(letra) == 1:\n",
    "            string2 += '('\n",
    "        else:\n",
    "            string2 += ')'\n",
    "    return string2"
   ]
  },
  {
   "cell_type": "code",
   "execution_count": 22,
   "metadata": {},
   "outputs": [
    {
     "data": {
      "text/plain": [
       "'((('"
      ]
     },
     "execution_count": 22,
     "metadata": {},
     "output_type": "execute_result"
    }
   ],
   "source": [
    "parentesis(\"din\")"
   ]
  },
  {
   "cell_type": "code",
   "execution_count": 23,
   "metadata": {},
   "outputs": [
    {
     "data": {
      "text/plain": [
       "'()()()'"
      ]
     },
     "execution_count": 23,
     "metadata": {},
     "output_type": "execute_result"
    }
   ],
   "source": [
    "parentesis(\"recede\")"
   ]
  },
  {
   "cell_type": "code",
   "execution_count": 24,
   "metadata": {},
   "outputs": [
    {
     "data": {
      "text/plain": [
       "')())())'"
      ]
     },
     "execution_count": 24,
     "metadata": {},
     "output_type": "execute_result"
    }
   ],
   "source": [
    "parentesis(\"Success\")"
   ]
  },
  {
   "cell_type": "code",
   "execution_count": 25,
   "metadata": {},
   "outputs": [
    {
     "data": {
      "text/plain": [
       "'))(('"
      ]
     },
     "execution_count": 25,
     "metadata": {},
     "output_type": "execute_result"
    }
   ],
   "source": [
    "parentesis(\"(( @\")"
   ]
  },
  {
   "cell_type": "code",
   "execution_count": 2,
   "metadata": {},
   "outputs": [
    {
     "data": {
      "text/plain": [
       "'((()(()()))))(()('"
      ]
     },
     "execution_count": 2,
     "metadata": {},
     "output_type": "execute_result"
    }
   ],
   "source": [
    "parentesis(\"Ocvl@GamFLAFkixkS\")"
   ]
  },
  {
   "attachments": {},
   "cell_type": "markdown",
   "metadata": {},
   "source": [
    "BONUS  \n",
    "4. A Pete le gusta hacer pasteles. Tiene algunas recetas e ingredientes. Desgraciadamente, no se le dan bien las matemáticas. ¿Puedes ayudarle a averiguar cuántas tartas puede hacer teniendo en cuenta sus recetas?\n",
    "\n",
    "Escribid una función,  que tome la receta (diccionario) y los ingredientes disponibles (también un diccionario) y devuelva el número máximo de pasteles que Pete puede hornear (entero). Para simplificar, no hay unidades para las cantidades (por ejemplo, 1 libra de harina o 200 g de azúcar son simplemente 1 o 200). Los ingredientes que no están presentes en los diccionarios, pueden ser considerados como 0.  \n",
    "```\n",
    "Probad con los siguientes diccionarios: \n",
    "\n",
    "RECETA {'flour': 500, 'sugar': 200, 'eggs': 1}, \n",
    "INGREDIENTES {'flour': 1200, 'sugar': 1200, 'eggs': 5, 'milk': 200}\n",
    "\n",
    "RESULTADO: 2 \n",
    "----------\n",
    "\n",
    "RECETA {'apples': 3, 'flour': 300, 'sugar': 150, 'milk': 100, 'oil': 100}\n",
    "INGREDIENTES {'sugar': 500, 'flour': 2000, 'milk': 2000}\n",
    "\n",
    "RESULTADO 0\n",
    "``` \n",
    "**Pista**: Nuestra función recibirá dos parámetros.   "
   ]
  },
  {
   "cell_type": "code",
   "execution_count": 37,
   "metadata": {},
   "outputs": [],
   "source": [
    "def num_tartas (ingredientes, receta):\n",
    "    numero_tartas = 0\n",
    "    while ingredientes.item() > recetas.items():\n",
    "        numero_tartas += 1\n",
    "    return numero_tartas\n",
    "        "
   ]
  },
  {
   "cell_type": "markdown",
   "metadata": {},
   "source": []
  },
  {
   "cell_type": "code",
   "execution_count": null,
   "metadata": {},
   "outputs": [],
   "source": []
  },
  {
   "cell_type": "code",
   "execution_count": 38,
   "metadata": {},
   "outputs": [],
   "source": [
    "# con while\n",
    "receta1 = {'flour': 500, 'sugar': 200, 'eggs': 1}\n",
    "ingredientes1 = {'flour': 1200, 'sugar': 1200, 'eggs': 5, 'milk': 200}"
   ]
  },
  {
   "cell_type": "code",
   "execution_count": 41,
   "metadata": {},
   "outputs": [
    {
     "data": {
      "text/plain": [
       "dict_items([('flour', 500), ('sugar', 200), ('eggs', 1)])"
      ]
     },
     "execution_count": 41,
     "metadata": {},
     "output_type": "execute_result"
    }
   ],
   "source": [
    "receta1.items()"
   ]
  },
  {
   "cell_type": "code",
   "execution_count": 40,
   "metadata": {},
   "outputs": [
    {
     "ename": "KeyError",
     "evalue": "0",
     "output_type": "error",
     "traceback": [
      "\u001b[0;31m---------------------------------------------------------------------------\u001b[0m",
      "\u001b[0;31mKeyError\u001b[0m                                  Traceback (most recent call last)",
      "Cell \u001b[0;32mIn[40], line 1\u001b[0m\n\u001b[0;32m----> 1\u001b[0m num_tartas(ingredientes1, receta1)\n",
      "Cell \u001b[0;32mIn[37], line 3\u001b[0m, in \u001b[0;36mnum_tartas\u001b[0;34m(ingredientes, receta)\u001b[0m\n\u001b[1;32m      1\u001b[0m \u001b[39mdef\u001b[39;00m \u001b[39mnum_tartas\u001b[39m (ingredientes, receta):\n\u001b[1;32m      2\u001b[0m     numero_tartas \u001b[39m=\u001b[39m \u001b[39m0\u001b[39m\n\u001b[0;32m----> 3\u001b[0m     \u001b[39mwhile\u001b[39;00m ingredientes[\u001b[39m0\u001b[39;49m] \u001b[39m>\u001b[39m receta[\u001b[39m0\u001b[39m] \u001b[39mand\u001b[39;00m ingredientes[\u001b[39m1\u001b[39m] \u001b[39m>\u001b[39m receta[\u001b[39m1\u001b[39m] \u001b[39mand\u001b[39;00m ingredientes[\u001b[39m2\u001b[39m] \u001b[39m>\u001b[39m receta[\u001b[39m2\u001b[39m] \u001b[39mand\u001b[39;00m ingredientes[\u001b[39m3\u001b[39m] \u001b[39m>\u001b[39m receta[\u001b[39m3\u001b[39m] \u001b[39mand\u001b[39;00m ingredientes[\u001b[39m4\u001b[39m] \u001b[39m>\u001b[39m receta[\u001b[39m4\u001b[39m]:\n\u001b[1;32m      4\u001b[0m         numero_tartas \u001b[39m+\u001b[39m\u001b[39m=\u001b[39m \u001b[39m1\u001b[39m\n\u001b[1;32m      5\u001b[0m     \u001b[39mreturn\u001b[39;00m numero_tartas\n",
      "\u001b[0;31mKeyError\u001b[0m: 0"
     ]
    }
   ],
   "source": [
    "num_tartas(ingredientes1, receta1)"
   ]
  },
  {
   "attachments": {},
   "cell_type": "markdown",
   "metadata": {},
   "source": [
    "BONUS  \n",
    "5. Escribid una función que va a ser una calculadora. La lista recibirá dos parámetros, una lista de números y un string con la operación que queremos hacer (puede ser \"*\", \"+\")  \n",
    "``` \n",
    "Probad con los siguientes inputs\n",
    "\n",
    "lista1 = [11, 6, 98, 1, 2] , \"*\"\n",
    "RESULTADO 12936\n",
    "\n",
    "-----------------------------------\n",
    "lista2 = [23,34, 56, 11, 90] , \"+\"\n",
    "RESULTADO 214\n",
    "\n",
    "-----------------------------------\n",
    "lista3 = [23, 4,109 , 94, 77] , \"-\"\n",
    "RESULTADO 'Lo siento, necesito que me pases una operación valida.'\n",
    "```"
   ]
  },
  {
   "cell_type": "code",
   "execution_count": 45,
   "metadata": {},
   "outputs": [],
   "source": [
    "def calculadora(numeros, operacion):\n",
    "    if operacion == '*':\n",
    "        multiplicacion = 1\n",
    "        for i in numeros:\n",
    "            multiplicacion *= i\n",
    "        return multiplicacion\n",
    "    elif operacion == '+':\n",
    "        suma = 0\n",
    "        for i in numeros:\n",
    "            suma += i\n",
    "        return suma  \n",
    "    else:\n",
    "        print('Lo siento, necesito que me pases una operación valida.')"
   ]
  },
  {
   "cell_type": "code",
   "execution_count": 46,
   "metadata": {},
   "outputs": [
    {
     "data": {
      "text/plain": [
       "12936"
      ]
     },
     "execution_count": 46,
     "metadata": {},
     "output_type": "execute_result"
    }
   ],
   "source": [
    "lista1 = [11, 6, 98, 1, 2]\n",
    "calculadora(lista1, \"*\")"
   ]
  },
  {
   "cell_type": "code",
   "execution_count": 47,
   "metadata": {},
   "outputs": [
    {
     "data": {
      "text/plain": [
       "214"
      ]
     },
     "execution_count": 47,
     "metadata": {},
     "output_type": "execute_result"
    }
   ],
   "source": [
    "lista2 = [23,34, 56, 11, 90]\n",
    "calculadora(lista2, \"+\")"
   ]
  },
  {
   "cell_type": "code",
   "execution_count": 48,
   "metadata": {},
   "outputs": [
    {
     "name": "stdout",
     "output_type": "stream",
     "text": [
      "Lo siento, necesito que me pases una operación valida.\n"
     ]
    }
   ],
   "source": [
    "lista3 = [23, 4,109 , 94, 77]\n",
    "calculadora(lista3, \"-\")"
   ]
  }
 ],
 "metadata": {
  "kernelspec": {
   "display_name": "adalabenv",
   "language": "python",
   "name": "python3"
  },
  "language_info": {
   "codemirror_mode": {
    "name": "ipython",
    "version": 3
   },
   "file_extension": ".py",
   "mimetype": "text/x-python",
   "name": "python",
   "nbconvert_exporter": "python",
   "pygments_lexer": "ipython3",
   "version": "3.10.9"
  },
  "orig_nbformat": 4,
  "vscode": {
   "interpreter": {
    "hash": "982f2751c33df6248463c13acbc6212f8872fb2f983edea342e7641fdc0e9b5d"
   }
  }
 },
 "nbformat": 4,
 "nbformat_minor": 2
}
