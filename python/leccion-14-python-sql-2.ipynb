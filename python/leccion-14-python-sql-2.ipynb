{
 "cells": [
  {
   "attachments": {},
   "cell_type": "markdown",
   "metadata": {},
   "source": [
    "# **Ejercicios de pair programming Módulo 1 - Sprint 2**\n",
    "## **Lección 14**\n",
    "### **Python + SQL 2**\n",
    "\n",
    "---"
   ]
  },
  {
   "attachments": {},
   "cell_type": "markdown",
   "metadata": {},
   "source": [
    "Sigamos trabajando con SQL desde nuestro jupyter! En este caso crearemos una BBDD.  \n",
    "\n",
    "**Objetivos**\n",
    "\n",
    "Durante la clase de *pair programming* de creación de tablas de SQL nos creamos nuestra primerita BBDD desde cero en Workbench. En el ejercicio de hoy volveremos a crear esa misma BBDD, pero esta vez desde Python.  \n",
    "\n",
    "📌 **NOTA** Utilizad el nombre de la BBDD de *mi_primerita_BBDD_Python*  \n",
    "📌 **NOTA** Cuando creeis las distintas tablas de vuestra BBDD repetereis la mismas lineas de código una y otra vez. Para evitar esto, crearos una función que nos sirva para crear tablas independientemente del contenido de la tabla. La función recibirá como parámetros:  \n",
    "1. Contraseña de la conexión al servidor.  \n",
    "2. *Query* para crear la tabla.  \n",
    "\n",
    "A modo de recap de lo que contenía la BBDD:  \n",
    "- Tabla Zapatillas: tiene 4 columnas: id, modelo, color, talla con las siguientes características:  \n",
    "    * `idZapatillas`: es una clave primaria de tipo int, autoincremental y no nula.\n",
    "    * `Modelo`: es una cadena de caracteres de longitud máxima de 45 caracteres, no nula.\n",
    "    * `Color`: es una cadena de caracteres de longitud máxima de 45 caracteres, no nula.\n",
    "    * `Talla`: es entero, no nula.    \n",
    "- Tabla Clientes: tiene 9 columnas idcliente, nombre, numero_telefono, email, direccion, ciudad, provincia, pais, codigo_postal con las siguientes características:  \n",
    "    * `idCliente`: es una clave primaria de tipo int, autoincremental y no nula.\n",
    "    * `Nombre`: es una cadena de caracteres de longitud máxima de 45 caracteres, no nula.\n",
    "    * `Numero_telefono`: es un entero de longitud máxima de 9 caracteres, no nula.\n",
    "    * `Email`: es una cadena de caracteres de longitud máxima de 45 caracteres, no nula.\n",
    "    * `Direccion`: es una cadena de caracteres de longitud máxima de 45 caracteres, no nula.\n",
    "    * `Ciudad`: es una cadena de caracteres de longitud máxima de 45 caracteres, puede ser nula.\n",
    "    * `Provincia`: es una cadena de caracteres de longitud máxima de 45 caracteres, no nula.\n",
    "    * `Pais`: es una cadena de caracteres de longitud máxima de 45 caracteres, no nula.\n",
    "    * `Codigo_postal`: entero de máxima longitud 9, no nula.      \n",
    "- Tabla Empleados: tiene 5 columnas idEmpleado, nombre, tienda, salario, fecha_incorporacion con las siguientes características:\n",
    "    * `idEmpleado`: es una clave primaria de tipo int, autoincremental y no nula.\n",
    "    * `Nombre`: es una cadena de caracteres de longitud máxima de 45 caracteres, no nula.\n",
    "    * `Tienda`: es una cadena de caracteres de longitud máxima de 45 caracteres, no nula.\n",
    "    * `salario`: es decimal, puede ser nula.\n",
    "    * `fecha_incorporacion`: es una columna de tipo date, no nula.   \n",
    "- Tabla Facturas: tiene 5 columnas idFactura, idEmpleado, idCliente, fecha, total con las siguientes características:\n",
    "    * `idFactura`: es una clave primaria de tipo int, autoincremental y no nula.\n",
    "    * `idEmpleado`: es una clave foránea de tipo int, no nula.\n",
    "    * `idCliente`: es una clave foránea de tipo int, no nula.\n",
    "    * `idZapatilla`: es una clave foránea de tipo int, no nula\n",
    "    * `Fecha`: es una columna de tipo date, no nula.\n",
    "    * `Total`: es decimal, no nula.  \n",
    "    📌 **NOTA** En esta última tabla tendremos que incluir todos los `CONSTRAINT` necesarios para establecer los relaciones entre las tablas, donde tendremos que especificar:\n",
    "    * Foreign Key\n",
    "    * References"
   ]
  }
 ],
 "metadata": {
  "kernelspec": {
   "display_name": "Python 3",
   "language": "python",
   "name": "python3"
  },
  "language_info": {
   "name": "python",
   "version": "3.6.9"
  },
  "orig_nbformat": 4,
  "vscode": {
   "interpreter": {
    "hash": "31f2aee4e71d21fbe5cf8b01ff0e069b9275f58929596ceb00d14d90e3e16cd6"
   }
  }
 },
 "nbformat": 4,
 "nbformat_minor": 2
}
