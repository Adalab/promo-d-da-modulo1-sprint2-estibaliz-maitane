{
 "cells": [
  {
   "attachments": {},
   "cell_type": "markdown",
   "metadata": {},
   "source": [
    "# **Ejercicios de pair programming Módulo 1 - Sprint 2**\n",
    "## **Lección 14**\n",
    "### **Python + SQL 2**\n",
    "\n",
    "---"
   ]
  },
  {
   "attachments": {},
   "cell_type": "markdown",
   "metadata": {},
   "source": [
    "Sigamos trabajando con SQL desde nuestro jupyter! En este caso crearemos una BBDD.  \n",
    "\n",
    "**Objetivos**\n",
    "\n",
    "Durante la clase de *pair programming* de creación de tablas de SQL nos creamos nuestra primerita BBDD desde cero en Workbench. En el ejercicio de hoy volveremos a crear esa misma BBDD, pero esta vez desde Python.  \n",
    "\n",
    "📌 **NOTA** Utilizad el nombre de la BBDD de *mi_primerita_BBDD_Python*  \n",
    "📌 **NOTA** Cuando creeis las distintas tablas de vuestra BBDD repetireis la mismas lineas de código una y otra vez. Para evitar esto, crearos una función que nos sirva para crear tablas independientemente del contenido de la tabla. La función recibirá como parámetros:  \n",
    "1. Contraseña de la conexión al servidor.  \n",
    "2. *Query* para crear la tabla.  \n",
    "\n",
    "A modo de recap de lo que contenía la BBDD:  \n",
    "- Tabla Zapatillas: tiene 4 columnas: id, modelo, color, talla con las siguientes características:  \n",
    "    * `idZapatillas`: es una clave primaria de tipo int, autoincremental y no nula.\n",
    "    * `Modelo`: es una cadena de caracteres de longitud máxima de 45 caracteres, no nula.\n",
    "    * `Color`: es una cadena de caracteres de longitud máxima de 45 caracteres, no nula.\n",
    "    * `Talla`: es entero, no nula.    \n",
    "- Tabla Clientes: tiene 9 columnas idcliente, nombre, numero_telefono, email, direccion, ciudad, provincia, pais, codigo_postal con las siguientes características:  \n",
    "    * `idCliente`: es una clave primaria de tipo int, autoincremental y no nula.\n",
    "    * `Nombre`: es una cadena de caracteres de longitud máxima de 45 caracteres, no nula.\n",
    "    * `Numero_telefono`: es un entero de longitud máxima de 9 caracteres, no nula.\n",
    "    * `Email`: es una cadena de caracteres de longitud máxima de 45 caracteres, no nula.\n",
    "    * `Direccion`: es una cadena de caracteres de longitud máxima de 45 caracteres, no nula.\n",
    "    * `Ciudad`: es una cadena de caracteres de longitud máxima de 45 caracteres, puede ser nula.\n",
    "    * `Provincia`: es una cadena de caracteres de longitud máxima de 45 caracteres, no nula.\n",
    "    * `Pais`: es una cadena de caracteres de longitud máxima de 45 caracteres, no nula.\n",
    "    * `Codigo_postal`: entero de máxima longitud 9, no nula.      \n",
    "- Tabla Empleados: tiene 5 columnas idEmpleado, nombre, tienda, salario, fecha_incorporacion con las siguientes características:\n",
    "    * `idEmpleado`: es una clave primaria de tipo int, autoincremental y no nula.\n",
    "    * `Nombre`: es una cadena de caracteres de longitud máxima de 45 caracteres, no nula.\n",
    "    * `Tienda`: es una cadena de caracteres de longitud máxima de 45 caracteres, no nula.\n",
    "    * `salario`: es decimal, puede ser nula.\n",
    "    * `fecha_incorporacion`: es una columna de tipo date, no nula.   \n",
    "- Tabla Facturas: tiene 5 columnas idFactura, idEmpleado, idCliente, fecha, total con las siguientes características:\n",
    "    * `idFactura`: es una clave primaria de tipo int, autoincremental y no nula.\n",
    "    * `idEmpleado`: es una clave foránea de tipo int, no nula.\n",
    "    * `idCliente`: es una clave foránea de tipo int, no nula.\n",
    "    * `idZapatilla`: es una clave foránea de tipo int, no nula\n",
    "    * `Fecha`: es una columna de tipo date, no nula.\n",
    "    * `Total`: es decimal, no nula.  \n",
    "    📌 **NOTA** En esta última tabla tendremos que incluir todos los `CONSTRAINT` necesarios para establecer los relaciones entre las tablas, donde tendremos que especificar:\n",
    "    * Foreign Key\n",
    "    * References"
   ]
  },
  {
   "cell_type": "code",
   "execution_count": 1,
   "metadata": {},
   "outputs": [
    {
     "name": "stdout",
     "output_type": "stream",
     "text": [
      "CMySQLCursor: CREATE DATABASE mi_primerita_BBDD_Python\n"
     ]
    }
   ],
   "source": [
    "# Creamos la base de datos\n",
    "import mysql.connector\n",
    "\n",
    "cnx = mysql.connector.connect(user='root', password='AlumnaAdalab',\n",
    "                              host='127.0.0.1')\n",
    "\n",
    "\n",
    "mycursor = cnx.cursor()\n",
    "try:\n",
    "    mycursor.execute(\"CREATE DATABASE mi_primerita_BBDD_Python\")\n",
    "    print(mycursor)\n",
    "except mysql.connector.Error as err:\n",
    "    print(err)\n",
    "    print(\"Error Code:\", err.errno)\n",
    "    print(\"SQLSTATE\", err.sqlstate)\n",
    "    print(\"Message\", err.msg)"
   ]
  },
  {
   "cell_type": "code",
   "execution_count": 5,
   "metadata": {},
   "outputs": [],
   "source": [
    "# Creamos la función para la creación de las tablas\n",
    "def creacion_tabla(contraseña, query):\n",
    "    cnx = mysql.connector.connect(user='root', password=contraseña,\n",
    "                              host='127.0.0.1', database= 'mi_primerita_BBDD_Python')\n",
    "    mycursor = cnx.cursor()\n",
    "    try:\n",
    "        mycursor.execute(query)\n",
    "        print(mycursor)\n",
    "        return f'Tabla creada'\n",
    "    except mysql.connector.Error as err:\n",
    "        print(err)\n",
    "        print(\"Error Code:\", err.errno)\n",
    "        print(\"SQLSTATE\", err.sqlstate)\n",
    "        print(\"Message\", err.msg)"
   ]
  },
  {
   "cell_type": "code",
   "execution_count": 7,
   "metadata": {},
   "outputs": [
    {
     "name": "stdout",
     "output_type": "stream",
     "text": [
      "CMySQLCursor: CREATE TABLE zapatillas (\n",
      "              ..\n"
     ]
    },
    {
     "data": {
      "text/plain": [
       "'Tabla creada'"
      ]
     },
     "execution_count": 7,
     "metadata": {},
     "output_type": "execute_result"
    }
   ],
   "source": [
    "# Creamos la tabla zapatillas\n",
    "q_tabla_zapatillas = \"\"\"CREATE TABLE zapatillas (\n",
    "                            idZapatillas INT NOT NULL AUTO_INCREMENT, \n",
    "                            Modelo VARCHAR(45) NOT NULL, \n",
    "                            Color VARCHAR(45) NOT NULL, \n",
    "                            Talla INT NOT NULL, \n",
    "                            PRIMARY KEY (idZapatillas))\"\"\"\n",
    "creacion_tabla('AlumnaAdalab', q_tabla_zapatillas)"
   ]
  },
  {
   "cell_type": "code",
   "execution_count": 8,
   "metadata": {},
   "outputs": [
    {
     "name": "stdout",
     "output_type": "stream",
     "text": [
      "CMySQLCursor: CREATE TABLE clientes (\n",
      "                ..\n"
     ]
    },
    {
     "data": {
      "text/plain": [
       "'Tabla creada'"
      ]
     },
     "execution_count": 8,
     "metadata": {},
     "output_type": "execute_result"
    }
   ],
   "source": [
    "# Creamos la tabla clientes\n",
    "q_tabla_clientes = \"\"\"CREATE TABLE clientes (\n",
    "                            idCliente INT NOT NULL AUTO_INCREMENT, \n",
    "                            Nombre VARCHAR(45) NOT NULL, \n",
    "                            Numero_telefono INT NOT NULL,\n",
    "                            Email VARCHAR(45) NOT NULL, \n",
    "                            Direccion VARCHAR(45) NOT NULL,\n",
    "                            Ciudad VARCHAR(45) NOT NULL,\n",
    "                            Provincia VARCHAR(45) NOT NULL, \n",
    "                            Pais VARCHAR(45) NOT NULL,\n",
    "                            Codigo_postal INT NOT NULL,\n",
    "                            PRIMARY KEY (idCliente))\"\"\"\n",
    "creacion_tabla('AlumnaAdalab', q_tabla_clientes)"
   ]
  },
  {
   "cell_type": "code",
   "execution_count": 9,
   "metadata": {},
   "outputs": [
    {
     "name": "stdout",
     "output_type": "stream",
     "text": [
      "CMySQLCursor: CREATE TABLE empleados (\n",
      "               ..\n"
     ]
    },
    {
     "data": {
      "text/plain": [
       "'Tabla creada'"
      ]
     },
     "execution_count": 9,
     "metadata": {},
     "output_type": "execute_result"
    }
   ],
   "source": [
    "# Creamos la tabla empleados\n",
    "q_tabla_empleados = \"\"\"CREATE TABLE empleados (\n",
    "                            idEmpleado INT NOT NULL AUTO_INCREMENT, \n",
    "                            Nombre VARCHAR(45) NOT NULL, \n",
    "                            Tienda VARCHAR(45) NOT NULL, \n",
    "                            Salario DECIMAL,\n",
    "                            Fecha_incorporacion DATE NOT NULL, \n",
    "                            PRIMARY KEY (idEmpleado))\"\"\"\n",
    "creacion_tabla('AlumnaAdalab', q_tabla_empleados)"
   ]
  },
  {
   "cell_type": "code",
   "execution_count": 11,
   "metadata": {},
   "outputs": [
    {
     "name": "stdout",
     "output_type": "stream",
     "text": [
      "CMySQLCursor: CREATE TABLE facturas (\n",
      "                ..\n"
     ]
    },
    {
     "data": {
      "text/plain": [
       "'Tabla creada'"
      ]
     },
     "execution_count": 11,
     "metadata": {},
     "output_type": "execute_result"
    }
   ],
   "source": [
    "# Creamos la tabla Facturas\n",
    "q_tabla_facturas = \"\"\"CREATE TABLE facturas (\n",
    "                            idFactura INT NOT NULL AUTO_INCREMENT, \n",
    "                            idEmpleado INT NOT NULL, \n",
    "                            idCliente INT NOT NULL, \n",
    "                            idZapatillas INT NOT NULL, \n",
    "                            Fecha DATE NOT NULL,\n",
    "                            Total DECIMAL NOT NULL, \n",
    "                            PRIMARY KEY (idFactura),\n",
    "                            CONSTRAINT `fk_zapatillas_facturas`\n",
    "                                FOREIGN KEY (`idZapatillas`)\n",
    "                                REFERENCES zapatillas (idZapatillas) ON DELETE CASCADE ON UPDATE CASCADE,\n",
    "                            CONSTRAINT `fk_clientes_facturas`\n",
    "                                FOREIGN KEY (`idCliente`)\n",
    "                                REFERENCES clientes (idCliente) ON DELETE CASCADE ON UPDATE CASCADE,\n",
    "                            CONSTRAINT `fk_empleados_facturas`\n",
    "                                FOREIGN KEY (`idEmpleado`)\n",
    "                                REFERENCES empleados (idEmpleado) ON DELETE CASCADE ON UPDATE CASCADE)\"\"\"\n",
    "creacion_tabla('AlumnaAdalab', q_tabla_facturas)"
   ]
  }
 ],
 "metadata": {
  "kernelspec": {
   "display_name": "Python 3",
   "language": "python",
   "name": "python3"
  },
  "language_info": {
   "codemirror_mode": {
    "name": "ipython",
    "version": 3
   },
   "file_extension": ".py",
   "mimetype": "text/x-python",
   "name": "python",
   "nbconvert_exporter": "python",
   "pygments_lexer": "ipython3",
   "version": "3.10.7"
  },
  "orig_nbformat": 4,
  "vscode": {
   "interpreter": {
    "hash": "6063d5499f772ae8a1e107838207352dcb98a53fa4810b0ae9ee3dae86bb68df"
   }
  }
 },
 "nbformat": 4,
 "nbformat_minor": 2
}
